{
  "cells": [
    {
      "cell_type": "markdown",
      "source": [
        "# Tarea 1 - Computacion Avanzada"
      ],
      "metadata": {
        "id": "Qn6ydMCpCoB0"
      },
      "id": "Qn6ydMCpCoB0"
    },
    {
      "cell_type": "code",
      "execution_count": 1,
      "id": "35fc6a96",
      "metadata": {
        "id": "35fc6a96"
      },
      "outputs": [],
      "source": [
        "# Librerias\n",
        "import numpy as np"
      ]
    },
    {
      "cell_type": "markdown",
      "id": "7e5d14f5",
      "metadata": {
        "id": "7e5d14f5"
      },
      "source": [
        "## Funciones"
      ]
    },
    {
      "cell_type": "code",
      "execution_count": 2,
      "id": "99bb5f94",
      "metadata": {
        "id": "99bb5f94"
      },
      "outputs": [],
      "source": [
        "# Se definen los vectores\n",
        "\n",
        "def vectors(n):\n",
        "  # Se crean los vectores para el caso par\n",
        "  if n%2==0:\n",
        "    m=int(n/2-1)\n",
        "\n",
        "    v=[]\n",
        "    l=np.random.randint(-5,5,m)\n",
        "    k=np.random.randint(-5,5,m)\n",
        "    \n",
        "    l_0=l[0]\n",
        "    ks=np.append(l_0, [k])\n",
        "    \n",
        "    v=np.concatenate((ks, -ks))\n",
        "    \n",
        "    v_0=[0,0]\n",
        "    v_=np.concatenate((v_0, l, -l))\n",
        "\n",
        "    return v, v_\n",
        "  \n",
        "  # Se crean los vectores para el caso par\n",
        "  else:\n",
        "    m=int((n-3)/2)\n",
        "\n",
        "    l=np.random.randint(-5,5,m)\n",
        "    k=np.random.randint(-5,5,m+1)\n",
        "    \n",
        "    l_0=np.array([0])\n",
        "    ks=np.append(l_0, [k])\n",
        "    u=np.concatenate((ks, -k))\n",
        "\n",
        "    k_0=k[0]\n",
        "    ls=np.append(l, [k_0])\n",
        "    ls=np.append(ls, [0])\n",
        "    ls2=np.append(l, [k_0])\n",
        "    u_=np.concatenate((ls, -ls2))\n",
        "\n",
        "    return u, u_"
      ]
    },
    {
      "cell_type": "code",
      "execution_count": 3,
      "id": "645aaf81",
      "metadata": {
        "id": "645aaf81"
      },
      "outputs": [],
      "source": [
        "def set_solutions(x, y):\n",
        "    x=np.array(x)\n",
        "    y=np.array(y)\n",
        "    \n",
        "    z=sum(x*(y**2))*x-sum((x**2)*y)*y\n",
        "    \n",
        "    div = np.gcd.reduce(z)\n",
        "    if div!=0:\n",
        "        solution=z/div\n",
        "        return solution, div\n",
        "    else:\n",
        "        solution=z\n",
        "        return solution, 1"
      ]
    },
    {
      "cell_type": "code",
      "execution_count": 4,
      "id": "d0433d75",
      "metadata": {
        "id": "d0433d75"
      },
      "outputs": [],
      "source": [
        "# Verificación quirales o vectorlike\n",
        "\n",
        "def vector_like_comprobation(v):\n",
        "    \n",
        "    uniq_abs = np.unique(np.abs(v)).shape[0]\n",
        "    uniq_all = np.unique(v).shape[0]\n",
        "    \n",
        "    if uniq_abs == uniq_all:\n",
        "        #quiral solution\n",
        "        return (1)\n",
        "    else:\n",
        "        #vector-like solution\n",
        "        return (0)"
      ]
    },
    {
      "cell_type": "markdown",
      "id": "10a572d2",
      "metadata": {
        "id": "10a572d2"
      },
      "source": [
        "## Verificación de las funciones"
      ]
    },
    {
      "cell_type": "code",
      "execution_count": 5,
      "id": "22fae2ab",
      "metadata": {
        "id": "22fae2ab"
      },
      "outputs": [],
      "source": [
        "k=[1,-2]\n",
        "l=[1,2]\n",
        "vp=[l[0],k[0],k[1],-l[0],-k[0],-k[1]]\n",
        "vm=[0,0,l[0],l[1],-l[0],-l[1]]\n",
        "k=np.array(k)\n",
        "l=np.array(l)\n",
        "vp=np.array(vp)\n",
        "vm=np.array(vm)"
      ]
    },
    {
      "cell_type": "code",
      "execution_count": 6,
      "id": "1200159a",
      "metadata": {
        "colab": {
          "base_uri": "https://localhost:8080/"
        },
        "id": "1200159a",
        "outputId": "32be1a8d-6a9b-42fe-95e9-31d2f5c143fb"
      },
      "outputs": [
        {
          "output_type": "execute_result",
          "data": {
            "text/plain": [
              "(array([ 1.,  1.,  1.,  5., -4., -4.]), 1)"
            ]
          },
          "metadata": {},
          "execution_count": 6
        }
      ],
      "source": [
        "z, gcd=set_solutions(vp,vm)\n",
        "z, gcd"
      ]
    },
    {
      "cell_type": "markdown",
      "id": "421f862e",
      "metadata": {
        "id": "421f862e"
      },
      "source": [
        "## Aplicación de las funciones"
      ]
    },
    {
      "cell_type": "code",
      "execution_count": 7,
      "id": "7caa6089",
      "metadata": {
        "colab": {
          "base_uri": "https://localhost:8080/"
        },
        "id": "7caa6089",
        "outputId": "7677d8a9-4de8-474f-b71e-58c7be05c3dd"
      },
      "outputs": [
        {
          "output_type": "execute_result",
          "data": {
            "text/plain": [
              "(array([-1, -2,  2,  1,  2, -2]), array([ 0,  0, -1, -1,  1,  1]))"
            ]
          },
          "metadata": {},
          "execution_count": 7
        }
      ],
      "source": [
        "n=6\n",
        "x, y= vectors(n)\n",
        "x,y"
      ]
    },
    {
      "cell_type": "code",
      "execution_count": 8,
      "id": "23baf971",
      "metadata": {
        "colab": {
          "base_uri": "https://localhost:8080/"
        },
        "id": "23baf971",
        "outputId": "931f1c3a-6f18-4427-812e-19377987230d"
      },
      "outputs": [
        {
          "output_type": "execute_result",
          "data": {
            "text/plain": [
              "(array([-1., -2.,  3.,  2.,  1., -3.]), 3)"
            ]
          },
          "metadata": {},
          "execution_count": 8
        }
      ],
      "source": [
        "solutions, gcd=set_solutions(x, y)\n",
        "solutions, gcd"
      ]
    },
    {
      "cell_type": "markdown",
      "source": [
        "## Comprobacion para n par"
      ],
      "metadata": {
        "id": "m-U2xKjaRKhW"
      },
      "id": "m-U2xKjaRKhW"
    },
    {
      "cell_type": "code",
      "execution_count": 9,
      "id": "68431c27",
      "metadata": {
        "colab": {
          "base_uri": "https://localhost:8080/"
        },
        "id": "68431c27",
        "outputId": "f01de1a2-e3e4-4bdd-901f-ce587d2f449c"
      },
      "outputs": [
        {
          "output_type": "stream",
          "name": "stdout",
          "text": [
            "[ 1.  0. -8.  5.  9. -7.] 9\n",
            "[-11. -11.  16.   8.  17. -19.] 4\n",
            "[-30. -24.  29.  26.  19. -20.] 36\n",
            "[-28.  -7.  20.  25.   1. -11.] 8\n",
            "[-7.  0. -9. 10.  2.  4.] 8\n",
            "[ -2.  10.   3. -13. -13.  15.] 10\n",
            "[ 10. -15.  22. -21.  -7.  11.] 2\n",
            "[-14. -14.  -1.  17.   8.   4.] 16\n",
            "[-15.   5. -11.   8.  16.  -3.] 2\n",
            "[-14. -14.  11.   5.  -4.  16.] 1\n",
            "[-15.   5. -21.   7.   1.  23.] 12\n",
            "[-11. -11. -19.  17.   8.  16.] 1\n",
            "[ 2.  0. -9. -7. 10.  4.] 16\n",
            "[ -3.  -1. -15.  11.  13.  -5.] 6\n",
            "[ 24.  -6.   4. -29.  26. -19.] 12\n",
            "[  5.   0. -26.  28.  11. -18.] 3\n"
          ]
        }
      ],
      "source": [
        "# Iteramos las solucines en busca de los que cumplan la condicion de suma y suma al cuadrado \n",
        "n=6\n",
        "for i in range(0,100):\n",
        "    x, y= vectors(n)\n",
        "    x=np.array(x)\n",
        "    y=np.array(y)\n",
        "    solution, gcd=set_solutions(x, y)\n",
        "    # Se aplican las condiciones de la suma y la suma al cubo\n",
        "    if np.sum(solution)==0 and np.sum(solution**3)==0:\n",
        "        # Se descartan soluciones vector like\n",
        "        if vector_like_comprobation(solution)==1:\n",
        "            p=0\n",
        "            for i in solution:\n",
        "                # Se dejan las soliciones que cumpla con que sus entradasean menor a 30\n",
        "                if i<=30:\n",
        "                    p+=1\n",
        "            # Se descartan las soluciones triviales\n",
        "            if p==len(solution) and np.all(solution==0)==False:\n",
        "                #Se imprime la solucion\n",
        "                print(solution, gcd)"
      ]
    },
    {
      "cell_type": "markdown",
      "source": [
        "## Comprobacion para n impar"
      ],
      "metadata": {
        "id": "zsNIFHv-RVWH"
      },
      "id": "zsNIFHv-RVWH"
    },
    {
      "cell_type": "code",
      "execution_count": 10,
      "id": "db60af18",
      "metadata": {
        "colab": {
          "base_uri": "https://localhost:8080/"
        },
        "id": "db60af18",
        "outputId": "62f75359-b671-431f-952c-3e921f7d2248"
      },
      "outputs": [
        {
          "output_type": "stream",
          "name": "stdout",
          "text": [
            "[ 18. -21.  20. -14.   3.   7. -13.] 3\n",
            "[ 3.  7. -6. -1. -6. -1.  4.] 51\n",
            "[  4. -18.  -7. -20.   6.  23.  12.] 2\n",
            "[ 25. -27.  -5.  14. -18.  20.  -9.] 1\n",
            "[ 13.  25. -28.  -1. -12. -24.  27.] 4\n",
            "[  6. -14.  11.  21.   8. -14. -18.] 4\n"
          ]
        }
      ],
      "source": [
        "# Iteramos las solucines en busca de los que cumplan la condicion de suma y suma al cuadrado \n",
        "n=7\n",
        "for i in range(0,100):\n",
        "    x, y= vectors(n)\n",
        "    x=np.array(x)\n",
        "    y=np.array(y)\n",
        "    solution, gcd=set_solutions(x, y)\n",
        "    # Se aplican las condiciones de la suma y la suma al cubo\n",
        "    if np.sum(solution)==0 and np.sum(solution**3)==0:\n",
        "        # Se descartan soluciones vector like\n",
        "        if vector_like_comprobation(solution)==1:\n",
        "            p=0\n",
        "            for i in solution:\n",
        "                # Se dejan las soliciones que cumpla con que sus entradasean menor a 30\n",
        "                if i<=30:\n",
        "                    p+=1\n",
        "            # Se descartan las soluciones triviales\n",
        "            if p==len(solution) and np.all(solution==0)==False:\n",
        "                #Se imprime la solucion\n",
        "                print(solution, gcd)"
      ]
    },
    {
      "cell_type": "code",
      "source": [
        ""
      ],
      "metadata": {
        "id": "YaaXqGzpRYqf"
      },
      "id": "YaaXqGzpRYqf",
      "execution_count": 10,
      "outputs": []
    }
  ],
  "metadata": {
    "kernelspec": {
      "display_name": "Python 3 (ipykernel)",
      "language": "python",
      "name": "python3"
    },
    "language_info": {
      "codemirror_mode": {
        "name": "ipython",
        "version": 3
      },
      "file_extension": ".py",
      "mimetype": "text/x-python",
      "name": "python",
      "nbconvert_exporter": "python",
      "pygments_lexer": "ipython3",
      "version": "3.9.12"
    },
    "colab": {
      "name": "09-08-2022 Computacion.ipynb",
      "provenance": [],
      "collapsed_sections": []
    }
  },
  "nbformat": 4,
  "nbformat_minor": 5
}