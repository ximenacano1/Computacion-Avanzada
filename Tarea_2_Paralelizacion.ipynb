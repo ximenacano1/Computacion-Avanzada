{
 "cells": [
  {
   "cell_type": "markdown",
   "metadata": {
    "id": "Qn6ydMCpCoB0"
   },
   "source": [
    "# Tarea 1 - Computacion Avanzada"
   ]
  },
  {
   "cell_type": "code",
   "execution_count": 1,
   "metadata": {
    "id": "35fc6a96"
   },
   "outputs": [],
   "source": [
    "# Librerias\n",
    "import numpy as np\n",
    "import multiprocessing"
   ]
  },
  {
   "cell_type": "markdown",
   "metadata": {
    "id": "7e5d14f5"
   },
   "source": [
    "## Funciones"
   ]
  },
  {
   "cell_type": "code",
   "execution_count": 2,
   "metadata": {
    "id": "99bb5f94"
   },
   "outputs": [],
   "source": [
    "# Se definen los vectores\n",
    "\n",
    "def vectors(n):\n",
    "  # Se crean los vectores para el caso par\n",
    "  if n%2==0:\n",
    "    m=int(n/2-1)\n",
    "\n",
    "    v=[]\n",
    "    l=np.random.randint(-5,5,m)\n",
    "    k=np.random.randint(-5,5,m)\n",
    "    \n",
    "    l_0=l[0]\n",
    "    ks=np.append(l_0, [k])\n",
    "    \n",
    "    v=np.concatenate((ks, -ks))\n",
    "    \n",
    "    v_0=[0,0]\n",
    "    v_=np.concatenate((v_0, l, -l))\n",
    "\n",
    "    return v, v_\n",
    "  \n",
    "  # Se crean los vectores para el caso par\n",
    "  else:\n",
    "    m=int((n-3)/2)\n",
    "\n",
    "    l=np.random.randint(-5,5,m)\n",
    "    k=np.random.randint(-5,5,m+1)\n",
    "    \n",
    "    l_0=np.array([0])\n",
    "    ks=np.append(l_0, [k])\n",
    "    u=np.concatenate((ks, -k))\n",
    "\n",
    "    k_0=k[0]\n",
    "    ls=np.append(l, [k_0])\n",
    "    ls=np.append(ls, [0])\n",
    "    ls2=np.append(l, [k_0])\n",
    "    u_=np.concatenate((ls, -ls2))\n",
    "\n",
    "    return u, u_"
   ]
  },
  {
   "cell_type": "code",
   "execution_count": 3,
   "metadata": {
    "id": "645aaf81"
   },
   "outputs": [],
   "source": [
    "def set_solutions(x, y):\n",
    "    x=np.array(x)\n",
    "    y=np.array(y)\n",
    "    \n",
    "    z=sum(x*(y**2))*x-sum((x**2)*y)*y\n",
    "    \n",
    "    div = np.gcd.reduce(z)\n",
    "    if div!=0:\n",
    "        solution=z/div\n",
    "        return solution, div\n",
    "    else:\n",
    "        solution=z\n",
    "        return solution, 1"
   ]
  },
  {
   "cell_type": "code",
   "execution_count": 4,
   "metadata": {
    "id": "d0433d75"
   },
   "outputs": [],
   "source": [
    "# Verificación quirales o vectorlike\n",
    "\n",
    "def vector_like_comprobation(v):\n",
    "    \n",
    "    uniq_abs = np.unique(np.abs(v)).shape[0]\n",
    "    uniq_all = np.unique(v).shape[0]\n",
    "    \n",
    "    if uniq_abs == uniq_all:\n",
    "        #quiral solution\n",
    "        return (1)\n",
    "    else:\n",
    "        #vector-like solution\n",
    "        return (0)"
   ]
  },
  {
   "cell_type": "markdown",
   "metadata": {
    "id": "10a572d2"
   },
   "source": [
    "## Verificación de las funciones"
   ]
  },
  {
   "cell_type": "code",
   "execution_count": 5,
   "metadata": {
    "id": "22fae2ab"
   },
   "outputs": [],
   "source": [
    "k=[1,-2]\n",
    "l=[1,2]\n",
    "vp=[l[0],k[0],k[1],-l[0],-k[0],-k[1]]\n",
    "vm=[0,0,l[0],l[1],-l[0],-l[1]]\n",
    "k=np.array(k)\n",
    "l=np.array(l)\n",
    "vp=np.array(vp)\n",
    "vm=np.array(vm)"
   ]
  },
  {
   "cell_type": "code",
   "execution_count": 6,
   "metadata": {
    "colab": {
     "base_uri": "https://localhost:8080/"
    },
    "id": "1200159a",
    "outputId": "32be1a8d-6a9b-42fe-95e9-31d2f5c143fb"
   },
   "outputs": [
    {
     "data": {
      "text/plain": [
       "(array([ 1.,  1.,  1.,  5., -4., -4.]), 1)"
      ]
     },
     "execution_count": 6,
     "metadata": {},
     "output_type": "execute_result"
    }
   ],
   "source": [
    "z, gcd=set_solutions(vp,vm)\n",
    "z, gcd"
   ]
  },
  {
   "cell_type": "markdown",
   "metadata": {
    "id": "421f862e"
   },
   "source": [
    "## Aplicación de las funciones"
   ]
  },
  {
   "cell_type": "code",
   "execution_count": 7,
   "metadata": {
    "colab": {
     "base_uri": "https://localhost:8080/"
    },
    "id": "7caa6089",
    "outputId": "7677d8a9-4de8-474f-b71e-58c7be05c3dd"
   },
   "outputs": [
    {
     "data": {
      "text/plain": [
       "(array([ 3, -2,  1, -3,  2, -1]), array([ 0,  0,  3,  3, -3, -3]))"
      ]
     },
     "execution_count": 7,
     "metadata": {},
     "output_type": "execute_result"
    }
   ],
   "source": [
    "n=6\n",
    "x, y= vectors(n)\n",
    "x,y"
   ]
  },
  {
   "cell_type": "code",
   "execution_count": 8,
   "metadata": {
    "colab": {
     "base_uri": "https://localhost:8080/"
    },
    "id": "23baf971",
    "outputId": "931f1c3a-6f18-4427-812e-19377987230d"
   },
   "outputs": [
    {
     "data": {
      "text/plain": [
       "(array([-3.,  2., -6., -2.,  3.,  6.]), 9)"
      ]
     },
     "execution_count": 8,
     "metadata": {},
     "output_type": "execute_result"
    }
   ],
   "source": [
    "solutions, gcd=set_solutions(x, y)\n",
    "solutions, gcd"
   ]
  },
  {
   "cell_type": "markdown",
   "metadata": {
    "id": "m-U2xKjaRKhW"
   },
   "source": [
    "## Comprobacion para n par"
   ]
  },
  {
   "cell_type": "code",
   "execution_count": 9,
   "metadata": {
    "colab": {
     "base_uri": "https://localhost:8080/"
    },
    "id": "68431c27",
    "outputId": "f01de1a2-e3e4-4bdd-901f-ce587d2f449c"
   },
   "outputs": [
    {
     "name": "stdout",
     "output_type": "stream",
     "text": [
      "[ -5.  10.  -4.   2. -11.   8.] 3\n",
      "[ -5. -25.  -8.  -1.  23.  16.] 6\n",
      "[ -6.  24. -29.  26. -19.   4.] 12\n",
      "[  7. -14. -16.  18.   9.  -4.] 7\n",
      "[ 1. -2.  5. -6. -3.  5.] 16\n",
      "[  1.  -3. -25.  19.  23. -15.] 2\n",
      "[ -4.  -4. -31.  25.  25. -11.] 8\n",
      "[-11. -22.   1.  14.  21.  -3.] 1\n",
      "[ -8. -12.  -6.   5.  10.  11.] 10\n",
      "[ 2. -5.  3. -1.  6. -5.] 12\n",
      "[-14.  -7. -26.  17.   5.  25.] 6\n",
      "[-5. -5. -1.  3.  6.  2.] 16\n",
      "[  5. -10. -11.  13.   1.   2.] 2\n",
      "[  7. -14. -10.  15.   3.  -1.] 1\n"
     ]
    }
   ],
   "source": [
    "# Iteramos las solucines en busca de los que cumplan la condicion de suma y suma al cuadrado \n",
    "n=6\n",
    "for i in range(0,100):\n",
    "    x, y= vectors(n)\n",
    "    x=np.array(x)\n",
    "    y=np.array(y)\n",
    "    solution, gcd=set_solutions(x, y)\n",
    "    # Se aplican las condiciones de la suma y la suma al cubo\n",
    "    if np.sum(solution)==0 and np.sum(solution**3)==0:\n",
    "        # Se descartan soluciones vector like\n",
    "        if vector_like_comprobation(solution)==1:\n",
    "            p=0\n",
    "            for i in solution:\n",
    "                # Se dejan las soliciones que cumpla con que sus entradasean menor a 30\n",
    "                if i<=30:\n",
    "                    p+=1\n",
    "            # Se descartan las soluciones triviales\n",
    "            if p==len(solution) and np.all(solution==0)==False:\n",
    "                #Se imprime la solucion\n",
    "                print(solution, gcd)"
   ]
  },
  {
   "cell_type": "markdown",
   "metadata": {
    "id": "zsNIFHv-RVWH"
   },
   "source": [
    "## Comprobacion para n impar"
   ]
  },
  {
   "cell_type": "code",
   "execution_count": 10,
   "metadata": {
    "colab": {
     "base_uri": "https://localhost:8080/"
    },
    "id": "db60af18",
    "outputId": "62f75359-b671-431f-952c-3e921f7d2248"
   },
   "outputs": [
    {
     "name": "stdout",
     "output_type": "stream",
     "text": [
      "[-1. -6.  3.  4.  7. -6. -1.] 6\n",
      "[  0.  11.  16. -21. -21.  24.  -9.] 2\n",
      "[ 14.  17.  -5. -20. -10.  -9.  13.] 6\n",
      "[ 12. -20.  21. -15.   8.  -5.  -1.] 20\n",
      "[  7. -13.   7.   2.  -8.  14.  -9.] 16\n",
      "[ 5. -6. -3. -2. -9.  8.  7.] 8\n",
      "[ -3. -22.   0.  -4.  19.  -6.  16.] 10\n",
      "[ 24.  13. -21.   5. -19.  -3.   1.] 6\n",
      "[ 20. -19. -12.   9.   7.  -8.   3.] 6\n",
      "[  4. -13.  -3. -12.   8.   1.  15.] 18\n"
     ]
    }
   ],
   "source": [
    "# Iteramos las solucines en busca de los que cumplan la condicion de suma y suma al cuadrado \n",
    "n=7\n",
    "for i in range(0,100):\n",
    "    x, y= vectors(n)\n",
    "    x=np.array(x)\n",
    "    y=np.array(y)\n",
    "    solution, gcd=set_solutions(x, y)\n",
    "    # Se aplican las condiciones de la suma y la suma al cubo\n",
    "    if np.sum(solution)==0 and np.sum(solution**3)==0:\n",
    "        # Se descartan soluciones vector like\n",
    "        if vector_like_comprobation(solution)==1:\n",
    "            p=0\n",
    "            for i in solution:\n",
    "                # Se dejan las soliciones que cumpla con que sus entradasean menor a 30\n",
    "                if i<=30:\n",
    "                    p+=1\n",
    "            # Se descartan las soluciones triviales\n",
    "            if p==len(solution) and np.all(solution==0)==False:\n",
    "                #Se imprime la solucion\n",
    "                print(solution, gcd)"
   ]
  },
  {
   "cell_type": "markdown",
   "metadata": {},
   "source": [
    "## Paralelización"
   ]
  },
  {
   "cell_type": "code",
   "execution_count": null,
   "metadata": {
    "id": "YaaXqGzpRYqf"
   },
   "outputs": [],
   "source": [
    "# Paralelizacion\n",
    "\n",
    "valores = np.full(10, 5)\n",
    "\n",
    "\n",
    "pool = multiprocessing.Pool(2)\n",
    "result = pool.map(set_solutions, valores)\n",
    "\n",
    "for z in np.unique(result, axis=0):\n",
    "    print(z)"
   ]
  },
  {
   "cell_type": "code",
   "execution_count": null,
   "metadata": {},
   "outputs": [],
   "source": []
  }
 ],
 "metadata": {
  "colab": {
   "collapsed_sections": [],
   "name": "09-08-2022 Computacion.ipynb",
   "provenance": []
  },
  "kernelspec": {
   "display_name": "Python 3",
   "language": "python",
   "name": "python3"
  },
  "language_info": {
   "codemirror_mode": {
    "name": "ipython",
    "version": 3
   },
   "file_extension": ".py",
   "mimetype": "text/x-python",
   "name": "python",
   "nbconvert_exporter": "python",
   "pygments_lexer": "ipython3",
   "version": "3.7.3"
  }
 },
 "nbformat": 4,
 "nbformat_minor": 5
}
